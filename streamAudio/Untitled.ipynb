{
 "cells": [
  {
   "cell_type": "code",
   "execution_count": 4,
   "metadata": {
    "collapsed": true
   },
   "outputs": [],
   "source": [
    "%matplotlib inline"
   ]
  },
  {
   "cell_type": "code",
   "execution_count": 5,
   "metadata": {
    "collapsed": false
   },
   "outputs": [
    {
     "data": {
      "image/png": "[encoded data removed]",
      "text/plain": [
       "<matplotlib.figure.Figure at 0x1104f24d0>"
      ]
     },
     "metadata": {},
     "output_type": "display_data"
    }
   ],
   "source": [
    "try:\n",
    "    import pyaudio\n",
    "    import numpy as np\n",
    "    import pylab\n",
    "    import matplotlib.pyplot as plt\n",
    "    from scipy.io import wavfile\n",
    "    import time\n",
    "    import sys\n",
    "except:\n",
    "    print \"Something didn't import\"\n",
    "\n",
    "p = pyaudio.PyAudio()\n",
    "i=0\n",
    "f,ax = plt.subplots(2)\n",
    "plt.ion()\n",
    "\n",
    "# Prepare the Plotting Environment with random starting values\n",
    "x = np.arange(2000)\n",
    "y = np.random.randn(2000)\n",
    "\n",
    "# Plot 0 is for raw audio data\n",
    "li, = ax[0].plot(x, y)\n",
    "ax[0].set_xlim(0,1000)\n",
    "ax[0].set_ylim(-2,2)\n",
    "ax[0].set_title(\"Raw Audio Signal\")\n",
    "# Plot 1 is for the FFT of the audio\n",
    "li2, = ax[1].plot(x, y)\n",
    "ax[1].set_xlim(0,5000)\n",
    "ax[1].set_ylim(-100,100)\n",
    "ax[1].set_title(\"Fast Fourier Transform\")\n",
    "# Show the plot, but without blocking updates\n",
    "plt.pause(0.01)\n"
   ]
  },
  {
   "cell_type": "code",
   "execution_count": 6,
   "metadata": {
    "collapsed": false
   },
   "outputs": [
    {
     "name": "stdout",
     "output_type": "stream",
     "text": [
      "\n",
      "+---------------------------------+\n",
      "| Press Ctrl+C to Break Recording |\n",
      "+---------------------------------+\n",
      "\n"
     ]
    },
    {
     "ename": "KeyboardInterrupt",
     "evalue": "",
     "output_type": "error",
     "traceback": [
      "\u001b[0;31m---------------------------------------------------------------------------\u001b[0m",
      "\u001b[0;31mKeyboardInterrupt\u001b[0m                         Traceback (most recent call last)",
      "\u001b[0;32m<ipython-input-6-607a52e3f546>\u001b[0m in \u001b[0;36m<module>\u001b[0;34m()\u001b[0m\n\u001b[1;32m     35\u001b[0m \u001b[0;31m# Loop so program doesn't end while the stream callback's\u001b[0m\u001b[0;34m\u001b[0m\u001b[0;34m\u001b[0m\u001b[0m\n\u001b[1;32m     36\u001b[0m \u001b[0;31m# itself for new data\u001b[0m\u001b[0;34m\u001b[0m\u001b[0;34m\u001b[0m\u001b[0m\n\u001b[0;32m---> 37\u001b[0;31m \u001b[0;32mwhile\u001b[0m \u001b[0mstream\u001b[0m\u001b[0;34m.\u001b[0m\u001b[0mis_active\u001b[0m\u001b[0;34m(\u001b[0m\u001b[0;34m)\u001b[0m\u001b[0;34m:\u001b[0m\u001b[0;34m\u001b[0m\u001b[0m\n\u001b[0m\u001b[1;32m     38\u001b[0m     \u001b[0;32mtry\u001b[0m\u001b[0;34m:\u001b[0m\u001b[0;34m\u001b[0m\u001b[0m\n\u001b[1;32m     39\u001b[0m         \u001b[0mi\u001b[0m\u001b[0;34m=\u001b[0m\u001b[0;36m1\u001b[0m\u001b[0;34m\u001b[0m\u001b[0m\n",
      "\u001b[0;32m/Users/zachariahmiller/anaconda/lib/python2.7/site-packages/pyaudio.pyc\u001b[0m in \u001b[0;36mis_active\u001b[0;34m(self)\u001b[0m\n\u001b[1;32m    533\u001b[0m         \"\"\"\n\u001b[1;32m    534\u001b[0m \u001b[0;34m\u001b[0m\u001b[0m\n\u001b[0;32m--> 535\u001b[0;31m         \u001b[0;32mreturn\u001b[0m \u001b[0mpa\u001b[0m\u001b[0;34m.\u001b[0m\u001b[0mis_stream_active\u001b[0m\u001b[0;34m(\u001b[0m\u001b[0mself\u001b[0m\u001b[0;34m.\u001b[0m\u001b[0m_stream\u001b[0m\u001b[0;34m)\u001b[0m\u001b[0;34m\u001b[0m\u001b[0m\n\u001b[0m\u001b[1;32m    536\u001b[0m \u001b[0;34m\u001b[0m\u001b[0m\n\u001b[1;32m    537\u001b[0m     \u001b[0;32mdef\u001b[0m \u001b[0mis_stopped\u001b[0m\u001b[0;34m(\u001b[0m\u001b[0mself\u001b[0m\u001b[0;34m)\u001b[0m\u001b[0;34m:\u001b[0m\u001b[0;34m\u001b[0m\u001b[0m\n",
      "\u001b[0;31mKeyboardInterrupt\u001b[0m: "
     ]
    }
   ],
   "source": [
    "def callback(in_data, frame_count, time_info, flag):\n",
    "    # get and convert the data to float\n",
    "    audio_data = np.fromstring(in_data, dtype=np.float32)\n",
    "    \n",
    "    # Fast Fourier Transform, 10*log10(abs) is to scale it to dB\n",
    "    # and make sure it's not imaginary\n",
    "    dfft = 10.*np.log10(abs(np.fft.rfft(audio_data)))\n",
    "    \n",
    "    # Force the new data into the plot, but without redrawing axes.\n",
    "    # If uses plt.draw(), axes are re-drawn every time\n",
    "    li.set_xdata(np.arange(len(audio_data)))\n",
    "    li.set_ydata(audio_data)\n",
    "    li2.set_xdata(np.arange(len(dfft))*10.)\n",
    "    li2.set_ydata(dfft)\n",
    "    \n",
    "    # Show the updated plot, but without blocking\n",
    "    plt.pause(0.01)\n",
    "    time.sleep(0.01)\n",
    "    return (audio_data, pyaudio.paContinue)\n",
    "\n",
    "# This initializes the connection to the microphone, using pyAudio\n",
    "stream = p.open(format=pyaudio.paFloat32,\n",
    "                channels=1,\n",
    "                rate=44100,\n",
    "                output=False,\n",
    "                input=True,\n",
    "                stream_callback=callback)\n",
    "\n",
    "# Open the connection and start streaming the data\n",
    "stream.start_stream()\n",
    "print \"\\n+---------------------------------+\"\n",
    "print \"| Press Ctrl+C to Break Recording |\"\n",
    "print \"+---------------------------------+\\n\"\n",
    "\n",
    "# Loop so program doesn't end while the stream callback's \n",
    "# itself for new data\n",
    "while stream.is_active():\n",
    "    try:\n",
    "        i=1\n",
    "    except KeyboardInterrupt:\n",
    "        break\n",
    "\n",
    "# Close up shop (currently not used because KeyboardInterrupt \n",
    "# is the only way to close)\n",
    "stream.stop_stream()\n",
    "stream.close()\n",
    "\n",
    "p.terminate()"
   ]
  },
  {
   "cell_type": "code",
   "execution_count": null,
   "metadata": {
    "collapsed": true
   },
   "outputs": [],
   "source": []
  }
 ],
 "metadata": {
  "kernelspec": {
   "display_name": "Python 2",
   "language": "python",
   "name": "python2"
  },
  "language_info": {
   "codemirror_mode": {
    "name": "ipython",
    "version": 2
   },
   "file_extension": ".py",
   "mimetype": "text/x-python",
   "name": "python",
   "nbconvert_exporter": "python",
   "pygments_lexer": "ipython2",
   "version": "2.7.13"
  }
 },
 "nbformat": 4,
 "nbformat_minor": 2
}
